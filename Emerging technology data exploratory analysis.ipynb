{
 "cells": [
  {
   "cell_type": "markdown",
   "id": "cd459eac",
   "metadata": {},
   "source": [
    "# Survey Dataset \n"
   ]
  },
  {
   "cell_type": "markdown",
   "id": "3bd48840",
   "metadata": {},
   "source": [
    "I will analyse some data regarding the emerging technologies\n"
   ]
  },
  {
   "cell_type": "markdown",
   "id": "94d54ff8",
   "metadata": {},
   "source": [
    "First I will plot some charts showing how the respondents are connected to different variables such as age, country and education level"
   ]
  },
  {
   "cell_type": "markdown",
   "id": "0cb2e880",
   "metadata": {},
   "source": [
    "Then I will:\n",
    "    \n",
    "*   Identify the distribution of data in the dataset.\n",
    "\n",
    "*   Identify outliers in the dataset.\n",
    "\n",
    "*   Remove outliers from the dataset.\n",
    "\n",
    "*   Identify correlation between features in the dataset.\n"
   ]
  },
  {
   "cell_type": "code",
   "execution_count": 1,
   "id": "480102e0",
   "metadata": {},
   "outputs": [],
   "source": [
    "import numpy as np\n",
    "import pandas as pd\n",
    "import matplotlib.pyplot as plt\n",
    "import seaborn as sns\n",
    "%matplotlib inline "
   ]
  },
  {
   "cell_type": "code",
   "execution_count": 2,
   "id": "f25c7772",
   "metadata": {},
   "outputs": [
    {
     "data": {
      "text/html": [
       "<div>\n",
       "<style scoped>\n",
       "    .dataframe tbody tr th:only-of-type {\n",
       "        vertical-align: middle;\n",
       "    }\n",
       "\n",
       "    .dataframe tbody tr th {\n",
       "        vertical-align: top;\n",
       "    }\n",
       "\n",
       "    .dataframe thead th {\n",
       "        text-align: right;\n",
       "    }\n",
       "</style>\n",
       "<table border=\"1\" class=\"dataframe\">\n",
       "  <thead>\n",
       "    <tr style=\"text-align: right;\">\n",
       "      <th></th>\n",
       "      <th>Unnamed: 0</th>\n",
       "      <th>Respondent</th>\n",
       "      <th>MainBranch</th>\n",
       "      <th>Hobbyist</th>\n",
       "      <th>OpenSourcer</th>\n",
       "      <th>OpenSource</th>\n",
       "      <th>Employment</th>\n",
       "      <th>Country</th>\n",
       "      <th>Student</th>\n",
       "      <th>EdLevel</th>\n",
       "      <th>...</th>\n",
       "      <th>Age</th>\n",
       "      <th>Gender</th>\n",
       "      <th>Trans</th>\n",
       "      <th>Sexuality</th>\n",
       "      <th>Ethnicity</th>\n",
       "      <th>Dependents</th>\n",
       "      <th>SurveyLength</th>\n",
       "      <th>SurveyEase</th>\n",
       "      <th>multiplier</th>\n",
       "      <th>NormalizedAnnualCompensation</th>\n",
       "    </tr>\n",
       "  </thead>\n",
       "  <tbody>\n",
       "    <tr>\n",
       "      <th>0</th>\n",
       "      <td>1</td>\n",
       "      <td>9</td>\n",
       "      <td>I am a developer by profession</td>\n",
       "      <td>Yes</td>\n",
       "      <td>Once a month or more often</td>\n",
       "      <td>The quality of OSS and closed source software ...</td>\n",
       "      <td>Employed full-time</td>\n",
       "      <td>New Zealand</td>\n",
       "      <td>No</td>\n",
       "      <td>Some college/university study without earning ...</td>\n",
       "      <td>...</td>\n",
       "      <td>23.0</td>\n",
       "      <td>Man</td>\n",
       "      <td>No</td>\n",
       "      <td>Bisexual</td>\n",
       "      <td>White or of European descent</td>\n",
       "      <td>No</td>\n",
       "      <td>Appropriate in length</td>\n",
       "      <td>Neither easy nor difficult</td>\n",
       "      <td>1</td>\n",
       "      <td>138000.0</td>\n",
       "    </tr>\n",
       "    <tr>\n",
       "      <th>1</th>\n",
       "      <td>5</td>\n",
       "      <td>19</td>\n",
       "      <td>I am a developer by profession</td>\n",
       "      <td>Yes</td>\n",
       "      <td>Never</td>\n",
       "      <td>The quality of OSS and closed source software ...</td>\n",
       "      <td>Employed full-time</td>\n",
       "      <td>Brazil</td>\n",
       "      <td>No</td>\n",
       "      <td>Some college/university study without earning ...</td>\n",
       "      <td>...</td>\n",
       "      <td>31.0</td>\n",
       "      <td>Man</td>\n",
       "      <td>No</td>\n",
       "      <td>Straight / Heterosexual</td>\n",
       "      <td>Hispanic or Latino/Latina</td>\n",
       "      <td>Yes</td>\n",
       "      <td>Too long</td>\n",
       "      <td>Easy</td>\n",
       "      <td>12</td>\n",
       "      <td>114000.0</td>\n",
       "    </tr>\n",
       "    <tr>\n",
       "      <th>2</th>\n",
       "      <td>6</td>\n",
       "      <td>20</td>\n",
       "      <td>I am not primarily a developer, but I write co...</td>\n",
       "      <td>No</td>\n",
       "      <td>Never</td>\n",
       "      <td>OSS is, on average, of HIGHER quality than pro...</td>\n",
       "      <td>Employed full-time</td>\n",
       "      <td>Lithuania</td>\n",
       "      <td>No</td>\n",
       "      <td>Master’s degree (MA, MS, M.Eng., MBA, etc.)</td>\n",
       "      <td>...</td>\n",
       "      <td>38.0</td>\n",
       "      <td>Man</td>\n",
       "      <td>No</td>\n",
       "      <td>Straight / Heterosexual</td>\n",
       "      <td>White or of European descent</td>\n",
       "      <td>Yes</td>\n",
       "      <td>Appropriate in length</td>\n",
       "      <td>Easy</td>\n",
       "      <td>12</td>\n",
       "      <td>36000.0</td>\n",
       "    </tr>\n",
       "    <tr>\n",
       "      <th>3</th>\n",
       "      <td>7</td>\n",
       "      <td>22</td>\n",
       "      <td>I am a developer by profession</td>\n",
       "      <td>Yes</td>\n",
       "      <td>Less than once per year</td>\n",
       "      <td>OSS is, on average, of HIGHER quality than pro...</td>\n",
       "      <td>Employed full-time</td>\n",
       "      <td>United States</td>\n",
       "      <td>No</td>\n",
       "      <td>Some college/university study without earning ...</td>\n",
       "      <td>...</td>\n",
       "      <td>47.0</td>\n",
       "      <td>Man</td>\n",
       "      <td>No</td>\n",
       "      <td>Straight / Heterosexual</td>\n",
       "      <td>White or of European descent</td>\n",
       "      <td>Yes</td>\n",
       "      <td>Appropriate in length</td>\n",
       "      <td>Easy</td>\n",
       "      <td>1</td>\n",
       "      <td>103000.0</td>\n",
       "    </tr>\n",
       "    <tr>\n",
       "      <th>4</th>\n",
       "      <td>8</td>\n",
       "      <td>23</td>\n",
       "      <td>I am a developer by profession</td>\n",
       "      <td>Yes</td>\n",
       "      <td>Less than once per year</td>\n",
       "      <td>The quality of OSS and closed source software ...</td>\n",
       "      <td>Employed full-time</td>\n",
       "      <td>United States</td>\n",
       "      <td>No</td>\n",
       "      <td>Bachelor’s degree (BA, BS, B.Eng., etc.)</td>\n",
       "      <td>...</td>\n",
       "      <td>22.0</td>\n",
       "      <td>Man</td>\n",
       "      <td>No</td>\n",
       "      <td>Straight / Heterosexual</td>\n",
       "      <td>Black or of African descent</td>\n",
       "      <td>No</td>\n",
       "      <td>Appropriate in length</td>\n",
       "      <td>Easy</td>\n",
       "      <td>1</td>\n",
       "      <td>69000.0</td>\n",
       "    </tr>\n",
       "  </tbody>\n",
       "</table>\n",
       "<p>5 rows × 88 columns</p>\n",
       "</div>"
      ],
      "text/plain": [
       "   Unnamed: 0  Respondent                                         MainBranch  \\\n",
       "0           1           9                     I am a developer by profession   \n",
       "1           5          19                     I am a developer by profession   \n",
       "2           6          20  I am not primarily a developer, but I write co...   \n",
       "3           7          22                     I am a developer by profession   \n",
       "4           8          23                     I am a developer by profession   \n",
       "\n",
       "  Hobbyist                 OpenSourcer  \\\n",
       "0      Yes  Once a month or more often   \n",
       "1      Yes                       Never   \n",
       "2       No                       Never   \n",
       "3      Yes     Less than once per year   \n",
       "4      Yes     Less than once per year   \n",
       "\n",
       "                                          OpenSource          Employment  \\\n",
       "0  The quality of OSS and closed source software ...  Employed full-time   \n",
       "1  The quality of OSS and closed source software ...  Employed full-time   \n",
       "2  OSS is, on average, of HIGHER quality than pro...  Employed full-time   \n",
       "3  OSS is, on average, of HIGHER quality than pro...  Employed full-time   \n",
       "4  The quality of OSS and closed source software ...  Employed full-time   \n",
       "\n",
       "         Country Student                                            EdLevel  \\\n",
       "0    New Zealand      No  Some college/university study without earning ...   \n",
       "1         Brazil      No  Some college/university study without earning ...   \n",
       "2      Lithuania      No        Master’s degree (MA, MS, M.Eng., MBA, etc.)   \n",
       "3  United States      No  Some college/university study without earning ...   \n",
       "4  United States      No           Bachelor’s degree (BA, BS, B.Eng., etc.)   \n",
       "\n",
       "   ...   Age Gender Trans                Sexuality  \\\n",
       "0  ...  23.0    Man    No                 Bisexual   \n",
       "1  ...  31.0    Man    No  Straight / Heterosexual   \n",
       "2  ...  38.0    Man    No  Straight / Heterosexual   \n",
       "3  ...  47.0    Man    No  Straight / Heterosexual   \n",
       "4  ...  22.0    Man    No  Straight / Heterosexual   \n",
       "\n",
       "                      Ethnicity Dependents           SurveyLength  \\\n",
       "0  White or of European descent         No  Appropriate in length   \n",
       "1     Hispanic or Latino/Latina        Yes               Too long   \n",
       "2  White or of European descent        Yes  Appropriate in length   \n",
       "3  White or of European descent        Yes  Appropriate in length   \n",
       "4   Black or of African descent         No  Appropriate in length   \n",
       "\n",
       "                   SurveyEase multiplier NormalizedAnnualCompensation  \n",
       "0  Neither easy nor difficult          1                     138000.0  \n",
       "1                        Easy         12                     114000.0  \n",
       "2                        Easy         12                      36000.0  \n",
       "3                        Easy          1                     103000.0  \n",
       "4                        Easy          1                      69000.0  \n",
       "\n",
       "[5 rows x 88 columns]"
      ]
     },
     "execution_count": 2,
     "metadata": {},
     "output_type": "execute_result"
    }
   ],
   "source": [
    "df= pd.read_csv('tech.csv')\n",
    "df.head()"
   ]
  },
  {
   "cell_type": "code",
   "execution_count": 3,
   "id": "bb0d6ca6",
   "metadata": {},
   "outputs": [
    {
     "name": "stdout",
     "output_type": "stream",
     "text": [
      "<class 'pandas.core.frame.DataFrame'>\n",
      "RangeIndex: 6333 entries, 0 to 6332\n",
      "Data columns (total 88 columns):\n",
      " #   Column                        Non-Null Count  Dtype  \n",
      "---  ------                        --------------  -----  \n",
      " 0   Unnamed: 0                    6333 non-null   int64  \n",
      " 1   Respondent                    6333 non-null   int64  \n",
      " 2   MainBranch                    6333 non-null   object \n",
      " 3   Hobbyist                      6333 non-null   object \n",
      " 4   OpenSourcer                   6333 non-null   object \n",
      " 5   OpenSource                    6333 non-null   object \n",
      " 6   Employment                    6333 non-null   object \n",
      " 7   Country                       6333 non-null   object \n",
      " 8   Student                       6333 non-null   object \n",
      " 9   EdLevel                       6333 non-null   object \n",
      " 10  UndergradMajor                6333 non-null   object \n",
      " 11  EduOther                      6333 non-null   object \n",
      " 12  OrgSize                       6333 non-null   object \n",
      " 13  DevType                       6333 non-null   object \n",
      " 14  YearsCode                     6333 non-null   object \n",
      " 15  Age1stCode                    6333 non-null   object \n",
      " 16  YearsCodePro                  6333 non-null   object \n",
      " 17  CareerSat                     6333 non-null   object \n",
      " 18  JobSat                        6333 non-null   object \n",
      " 19  MgrIdiot                      6333 non-null   object \n",
      " 20  MgrMoney                      6333 non-null   object \n",
      " 21  MgrWant                       6333 non-null   object \n",
      " 22  JobSeek                       6333 non-null   object \n",
      " 23  LastHireDate                  6333 non-null   object \n",
      " 24  LastInt                       6333 non-null   object \n",
      " 25  FizzBuzz                      6333 non-null   object \n",
      " 26  JobFactors                    6333 non-null   object \n",
      " 27  ResumeUpdate                  6333 non-null   object \n",
      " 28  CurrencySymbol                6333 non-null   object \n",
      " 29  CurrencyDesc                  6333 non-null   object \n",
      " 30  CompTotal                     6333 non-null   float64\n",
      " 31  CompFreq                      6333 non-null   object \n",
      " 32  ConvertedComp                 6333 non-null   float64\n",
      " 33  WorkWeekHrs                   6333 non-null   float64\n",
      " 34  WorkPlan                      6333 non-null   object \n",
      " 35  WorkChallenge                 6333 non-null   object \n",
      " 36  WorkRemote                    6333 non-null   object \n",
      " 37  WorkLoc                       6333 non-null   object \n",
      " 38  ImpSyn                        6333 non-null   object \n",
      " 39  CodeRev                       6333 non-null   object \n",
      " 40  CodeRevHrs                    6333 non-null   float64\n",
      " 41  UnitTests                     6333 non-null   object \n",
      " 42  PurchaseHow                   6333 non-null   object \n",
      " 43  PurchaseWhat                  6333 non-null   object \n",
      " 44  LanguageWorkedWith            6333 non-null   object \n",
      " 45  LanguageDesireNextYear        6333 non-null   object \n",
      " 46  DatabaseWorkedWith            6333 non-null   object \n",
      " 47  DatabaseDesireNextYear        6333 non-null   object \n",
      " 48  PlatformWorkedWith            6333 non-null   object \n",
      " 49  PlatformDesireNextYear        6333 non-null   object \n",
      " 50  WebFrameWorkedWith            6333 non-null   object \n",
      " 51  WebFrameDesireNextYear        6333 non-null   object \n",
      " 52  MiscTechWorkedWith            6333 non-null   object \n",
      " 53  MiscTechDesireNextYear        6333 non-null   object \n",
      " 54  DevEnviron                    6333 non-null   object \n",
      " 55  OpSys                         6333 non-null   object \n",
      " 56  Containers                    6333 non-null   object \n",
      " 57  BlockchainOrg                 6333 non-null   object \n",
      " 58  BlockchainIs                  6333 non-null   object \n",
      " 59  BetterLife                    6333 non-null   object \n",
      " 60  ITperson                      6333 non-null   object \n",
      " 61  OffOn                         6333 non-null   object \n",
      " 62  SocialMedia                   6333 non-null   object \n",
      " 63  Extraversion                  6333 non-null   object \n",
      " 64  ScreenName                    6333 non-null   object \n",
      " 65  SOVisit1st                    6333 non-null   object \n",
      " 66  SOVisitFreq                   6333 non-null   object \n",
      " 67  SOVisitTo                     6333 non-null   object \n",
      " 68  SOFindAnswer                  6333 non-null   object \n",
      " 69  SOTimeSaved                   6333 non-null   object \n",
      " 70  SOHowMuchTime                 6333 non-null   object \n",
      " 71  SOAccount                     6333 non-null   object \n",
      " 72  SOPartFreq                    6333 non-null   object \n",
      " 73  SOJobs                        6333 non-null   object \n",
      " 74  EntTeams                      6333 non-null   object \n",
      " 75  SOComm                        6333 non-null   object \n",
      " 76  WelcomeChange                 6333 non-null   object \n",
      " 77  SONewContent                  6333 non-null   object \n",
      " 78  Age                           6333 non-null   float64\n",
      " 79  Gender                        6333 non-null   object \n",
      " 80  Trans                         6333 non-null   object \n",
      " 81  Sexuality                     6333 non-null   object \n",
      " 82  Ethnicity                     6333 non-null   object \n",
      " 83  Dependents                    6333 non-null   object \n",
      " 84  SurveyLength                  6333 non-null   object \n",
      " 85  SurveyEase                    6333 non-null   object \n",
      " 86  multiplier                    6333 non-null   int64  \n",
      " 87  NormalizedAnnualCompensation  6333 non-null   float64\n",
      "dtypes: float64(6), int64(3), object(79)\n",
      "memory usage: 4.3+ MB\n"
     ]
    }
   ],
   "source": [
    "df.info()"
   ]
  },
  {
   "cell_type": "markdown",
   "id": "6ecb77df",
   "metadata": {},
   "source": [
    "I will perform some analyses and plotting interesting charts to show some interesting insights:"
   ]
  },
  {
   "cell_type": "code",
   "execution_count": 5,
   "id": "79980b5f",
   "metadata": {},
   "outputs": [
    {
     "data": {
      "text/plain": [
       "25.0    446\n",
       "28.0    441\n",
       "27.0    428\n",
       "26.0    419\n",
       "29.0    405\n",
       "30.0    391\n",
       "24.0    380\n",
       "31.0    330\n",
       "23.0    316\n",
       "32.0    281\n",
       "Name: Age, dtype: int64"
      ]
     },
     "execution_count": 5,
     "metadata": {},
     "output_type": "execute_result"
    }
   ],
   "source": [
    "df['Age'].value_counts().head(10)"
   ]
  },
  {
   "cell_type": "code",
   "execution_count": 6,
   "id": "641b60a2",
   "metadata": {},
   "outputs": [
    {
     "data": {
      "text/plain": [
       "(array([0, 1, 2, 3, 4, 5, 6, 7, 8, 9]),\n",
       " [Text(0, 0, '25.0'),\n",
       "  Text(1, 0, '28.0'),\n",
       "  Text(2, 0, '27.0'),\n",
       "  Text(3, 0, '26.0'),\n",
       "  Text(4, 0, '29.0'),\n",
       "  Text(5, 0, '30.0'),\n",
       "  Text(6, 0, '24.0'),\n",
       "  Text(7, 0, '31.0'),\n",
       "  Text(8, 0, '23.0'),\n",
       "  Text(9, 0, '32.0')])"
      ]
     },
     "execution_count": 6,
     "metadata": {},
     "output_type": "execute_result"
    },
    {
     "data": {
      "image/png": "[encoded data removed]",
      "text/plain": [
       "<Figure size 1080x360 with 1 Axes>"
      ]
     },
     "metadata": {
      "needs_background": "light"
     },
     "output_type": "display_data"
    }
   ],
   "source": [
    "df['Age'].value_counts().head(10).plot(kind='bar', figsize=(15,5))\n",
    "plt.title('Most recurring 10 Age respondents', fontsize=30)\n",
    "plt.ylabel('Count', fontsize=19)\n",
    "plt.xlabel('Age', fontsize=19)\n",
    "plt.yticks(fontsize=14) # rotation=30\n",
    "plt.xticks(fontsize=14) # rotation=30"
   ]
  },
  {
   "cell_type": "code",
   "execution_count": 8,
   "id": "84c26392",
   "metadata": {},
   "outputs": [
    {
     "data": {
      "text/plain": [
       "(array([0, 1, 2, 3, 4, 5, 6, 7, 8, 9]),\n",
       " [Text(0, 0, 'United States'),\n",
       "  Text(1, 0, 'United Kingdom'),\n",
       "  Text(2, 0, 'India'),\n",
       "  Text(3, 0, 'Germany'),\n",
       "  Text(4, 0, 'Canada'),\n",
       "  Text(5, 0, 'Brazil'),\n",
       "  Text(6, 0, 'France'),\n",
       "  Text(7, 0, 'Australia'),\n",
       "  Text(8, 0, 'Spain'),\n",
       "  Text(9, 0, 'Netherlands')])"
      ]
     },
     "execution_count": 8,
     "metadata": {},
     "output_type": "execute_result"
    },
    {
     "data": {
      "image/png": "[encoded data removed]",
      "text/plain": [
       "<Figure size 1080x360 with 1 Axes>"
      ]
     },
     "metadata": {
      "needs_background": "light"
     },
     "output_type": "display_data"
    }
   ],
   "source": [
    "df['Country'].value_counts().head(10).plot(kind='bar', figsize=(15,5))\n",
    "plt.title('Most recurring 10 Country of respondents', fontsize=30)\n",
    "plt.ylabel('Count', fontsize=19)\n",
    "plt.xlabel('Age', fontsize=19)\n",
    "plt.yticks(fontsize=14) # rotation=30\n",
    "plt.xticks(fontsize=14, rotation=30)"
   ]
  },
  {
   "cell_type": "code",
   "execution_count": 9,
   "id": "46c404c7",
   "metadata": {},
   "outputs": [
    {
     "data": {
      "text/plain": [
       "Man                                                        5875\n",
       "Woman                                                       415\n",
       "Non-binary, genderqueer, or gender non-conforming            21\n",
       "Man;Non-binary, genderqueer, or gender non-conforming        13\n",
       "Woman;Non-binary, genderqueer, or gender non-conforming       7\n",
       "Woman;Man                                                     2\n",
       "Name: Gender, dtype: int64"
      ]
     },
     "execution_count": 9,
     "metadata": {},
     "output_type": "execute_result"
    }
   ],
   "source": [
    "df['Gender'].value_counts().head(10)"
   ]
  },
  {
   "cell_type": "code",
   "execution_count": 13,
   "id": "242f3201",
   "metadata": {},
   "outputs": [
    {
     "data": {
      "text/plain": [
       "(array([0, 1, 2, 3, 4, 5, 6, 7, 8]),\n",
       " [Text(0, 0, 'Bachelor’s degree (BA, BS, B.Eng., etc.)'),\n",
       "  Text(1, 0, 'Master’s degree (MA, MS, M.Eng., MBA, etc.)'),\n",
       "  Text(2, 0, 'Some college/university study without earning a degree'),\n",
       "  Text(3, 0, 'Secondary school (e.g. American high school, German Realschule or Gymnasium, etc.)'),\n",
       "  Text(4, 0, 'Associate degree'),\n",
       "  Text(5, 0, 'Other doctoral degree (Ph.D, Ed.D., etc.)'),\n",
       "  Text(6, 0, 'Professional degree (JD, MD, etc.)'),\n",
       "  Text(7, 0, 'I never completed any formal education'),\n",
       "  Text(8, 0, 'Primary/elementary school')])"
      ]
     },
     "execution_count": 13,
     "metadata": {},
     "output_type": "execute_result"
    },
    {
     "data": {
      "image/png": "[encoded data removed]",
      "text/plain": [
       "<Figure size 1080x360 with 1 Axes>"
      ]
     },
     "metadata": {
      "needs_background": "light"
     },
     "output_type": "display_data"
    }
   ],
   "source": [
    "df['EdLevel'].value_counts().head(10).plot(kind='bar', figsize=(15,5))\n",
    "plt.title('Most recurring Education level of respondents', fontsize=30)\n",
    "plt.ylabel('Count', fontsize=19)\n",
    "plt.xlabel('Age', fontsize=19)\n",
    "plt.yticks(fontsize=14) # rotation=30\n",
    "plt.xticks(fontsize=14, rotation=30)"
   ]
  },
  {
   "cell_type": "code",
   "execution_count": 11,
   "id": "d6bd0024",
   "metadata": {},
   "outputs": [
    {
     "data": {
      "text/html": [
       "<div>\n",
       "<style scoped>\n",
       "    .dataframe tbody tr th:only-of-type {\n",
       "        vertical-align: middle;\n",
       "    }\n",
       "\n",
       "    .dataframe tbody tr th {\n",
       "        vertical-align: top;\n",
       "    }\n",
       "\n",
       "    .dataframe thead th {\n",
       "        text-align: right;\n",
       "    }\n",
       "</style>\n",
       "<table border=\"1\" class=\"dataframe\">\n",
       "  <thead>\n",
       "    <tr style=\"text-align: right;\">\n",
       "      <th></th>\n",
       "      <th>Unnamed: 0</th>\n",
       "      <th>Respondent</th>\n",
       "      <th>MainBranch</th>\n",
       "      <th>Hobbyist</th>\n",
       "      <th>OpenSourcer</th>\n",
       "      <th>OpenSource</th>\n",
       "      <th>Employment</th>\n",
       "      <th>Country</th>\n",
       "      <th>Student</th>\n",
       "      <th>EdLevel</th>\n",
       "      <th>...</th>\n",
       "      <th>Age</th>\n",
       "      <th>Gender</th>\n",
       "      <th>Trans</th>\n",
       "      <th>Sexuality</th>\n",
       "      <th>Ethnicity</th>\n",
       "      <th>Dependents</th>\n",
       "      <th>SurveyLength</th>\n",
       "      <th>SurveyEase</th>\n",
       "      <th>multiplier</th>\n",
       "      <th>NormalizedAnnualCompensation</th>\n",
       "    </tr>\n",
       "  </thead>\n",
       "  <tbody>\n",
       "    <tr>\n",
       "      <th>0</th>\n",
       "      <td>1</td>\n",
       "      <td>9</td>\n",
       "      <td>I am a developer by profession</td>\n",
       "      <td>Yes</td>\n",
       "      <td>Once a month or more often</td>\n",
       "      <td>The quality of OSS and closed source software ...</td>\n",
       "      <td>Employed full-time</td>\n",
       "      <td>New Zealand</td>\n",
       "      <td>No</td>\n",
       "      <td>Some college/university study without earning ...</td>\n",
       "      <td>...</td>\n",
       "      <td>23.0</td>\n",
       "      <td>Man</td>\n",
       "      <td>No</td>\n",
       "      <td>Bisexual</td>\n",
       "      <td>White or of European descent</td>\n",
       "      <td>No</td>\n",
       "      <td>Appropriate in length</td>\n",
       "      <td>Neither easy nor difficult</td>\n",
       "      <td>1</td>\n",
       "      <td>138000.0</td>\n",
       "    </tr>\n",
       "    <tr>\n",
       "      <th>1</th>\n",
       "      <td>5</td>\n",
       "      <td>19</td>\n",
       "      <td>I am a developer by profession</td>\n",
       "      <td>Yes</td>\n",
       "      <td>Never</td>\n",
       "      <td>The quality of OSS and closed source software ...</td>\n",
       "      <td>Employed full-time</td>\n",
       "      <td>Brazil</td>\n",
       "      <td>No</td>\n",
       "      <td>Some college/university study without earning ...</td>\n",
       "      <td>...</td>\n",
       "      <td>31.0</td>\n",
       "      <td>Man</td>\n",
       "      <td>No</td>\n",
       "      <td>Straight / Heterosexual</td>\n",
       "      <td>Hispanic or Latino/Latina</td>\n",
       "      <td>Yes</td>\n",
       "      <td>Too long</td>\n",
       "      <td>Easy</td>\n",
       "      <td>12</td>\n",
       "      <td>114000.0</td>\n",
       "    </tr>\n",
       "  </tbody>\n",
       "</table>\n",
       "<p>2 rows × 88 columns</p>\n",
       "</div>"
      ],
      "text/plain": [
       "   Unnamed: 0  Respondent                      MainBranch Hobbyist  \\\n",
       "0           1           9  I am a developer by profession      Yes   \n",
       "1           5          19  I am a developer by profession      Yes   \n",
       "\n",
       "                  OpenSourcer  \\\n",
       "0  Once a month or more often   \n",
       "1                       Never   \n",
       "\n",
       "                                          OpenSource          Employment  \\\n",
       "0  The quality of OSS and closed source software ...  Employed full-time   \n",
       "1  The quality of OSS and closed source software ...  Employed full-time   \n",
       "\n",
       "       Country Student                                            EdLevel  \\\n",
       "0  New Zealand      No  Some college/university study without earning ...   \n",
       "1       Brazil      No  Some college/university study without earning ...   \n",
       "\n",
       "   ...   Age Gender Trans                Sexuality  \\\n",
       "0  ...  23.0    Man    No                 Bisexual   \n",
       "1  ...  31.0    Man    No  Straight / Heterosexual   \n",
       "\n",
       "                      Ethnicity Dependents           SurveyLength  \\\n",
       "0  White or of European descent         No  Appropriate in length   \n",
       "1     Hispanic or Latino/Latina        Yes               Too long   \n",
       "\n",
       "                   SurveyEase multiplier NormalizedAnnualCompensation  \n",
       "0  Neither easy nor difficult          1                     138000.0  \n",
       "1                        Easy         12                     114000.0  \n",
       "\n",
       "[2 rows x 88 columns]"
      ]
     },
     "execution_count": 11,
     "metadata": {},
     "output_type": "execute_result"
    }
   ],
   "source": [
    "df.head(2)"
   ]
  },
  {
   "cell_type": "code",
   "execution_count": 12,
   "id": "6123345e",
   "metadata": {},
   "outputs": [
    {
     "data": {
      "text/plain": [
       "Index(['Unnamed: 0', 'Respondent', 'MainBranch', 'Hobbyist', 'OpenSourcer',\n",
       "       'OpenSource', 'Employment', 'Country', 'Student', 'EdLevel',\n",
       "       'UndergradMajor', 'EduOther', 'OrgSize', 'DevType', 'YearsCode',\n",
       "       'Age1stCode', 'YearsCodePro', 'CareerSat', 'JobSat', 'MgrIdiot',\n",
       "       'MgrMoney', 'MgrWant', 'JobSeek', 'LastHireDate', 'LastInt', 'FizzBuzz',\n",
       "       'JobFactors', 'ResumeUpdate', 'CurrencySymbol', 'CurrencyDesc',\n",
       "       'CompTotal', 'CompFreq', 'ConvertedComp', 'WorkWeekHrs', 'WorkPlan',\n",
       "       'WorkChallenge', 'WorkRemote', 'WorkLoc', 'ImpSyn', 'CodeRev',\n",
       "       'CodeRevHrs', 'UnitTests', 'PurchaseHow', 'PurchaseWhat',\n",
       "       'LanguageWorkedWith', 'LanguageDesireNextYear', 'DatabaseWorkedWith',\n",
       "       'DatabaseDesireNextYear', 'PlatformWorkedWith',\n",
       "       'PlatformDesireNextYear', 'WebFrameWorkedWith',\n",
       "       'WebFrameDesireNextYear', 'MiscTechWorkedWith',\n",
       "       'MiscTechDesireNextYear', 'DevEnviron', 'OpSys', 'Containers',\n",
       "       'BlockchainOrg', 'BlockchainIs', 'BetterLife', 'ITperson', 'OffOn',\n",
       "       'SocialMedia', 'Extraversion', 'ScreenName', 'SOVisit1st',\n",
       "       'SOVisitFreq', 'SOVisitTo', 'SOFindAnswer', 'SOTimeSaved',\n",
       "       'SOHowMuchTime', 'SOAccount', 'SOPartFreq', 'SOJobs', 'EntTeams',\n",
       "       'SOComm', 'WelcomeChange', 'SONewContent', 'Age', 'Gender', 'Trans',\n",
       "       'Sexuality', 'Ethnicity', 'Dependents', 'SurveyLength', 'SurveyEase',\n",
       "       'multiplier', 'NormalizedAnnualCompensation'],\n",
       "      dtype='object')"
      ]
     },
     "execution_count": 12,
     "metadata": {},
     "output_type": "execute_result"
    }
   ],
   "source": [
    "df.columns"
   ]
  },
  {
   "cell_type": "markdown",
   "id": "a3e83024",
   "metadata": {},
   "source": [
    "#### I will identify the distribution of data in the dataset"
   ]
  },
  {
   "cell_type": "markdown",
   "id": "53ade5f5",
   "metadata": {},
   "source": [
    "I will do it for the the column ConvertedComp contains Salary converted to annual USD salaries using the exchange rate on 2019-02-01. This assumes 12 working months and 50 working weeks.\n"
   ]
  },
  {
   "cell_type": "code",
   "execution_count": 14,
   "id": "f8a058ca",
   "metadata": {},
   "outputs": [
    {
     "data": {
      "text/plain": [
       "0        95179.0\n",
       "1        31140.0\n",
       "2        41244.0\n",
       "3       103000.0\n",
       "4        69000.0\n",
       "          ...   \n",
       "6328     38760.0\n",
       "6329      7724.0\n",
       "6330     35518.0\n",
       "6331    130000.0\n",
       "6332     80371.0\n",
       "Name: ConvertedComp, Length: 6333, dtype: float64"
      ]
     },
     "execution_count": 14,
     "metadata": {},
     "output_type": "execute_result"
    }
   ],
   "source": [
    "df['ConvertedComp']"
   ]
  },
  {
   "cell_type": "code",
   "execution_count": 18,
   "id": "a6dcf7b2",
   "metadata": {},
   "outputs": [
    {
     "name": "stderr",
     "output_type": "stream",
     "text": [
      "C:\\Users\\Marco\\AppData\\Local\\Packages\\PythonSoftwareFoundation.Python.3.10_qbz5n2kfra8p0\\LocalCache\\local-packages\\Python310\\site-packages\\seaborn\\distributions.py:2619: FutureWarning: `distplot` is a deprecated function and will be removed in a future version. Please adapt your code to use either `displot` (a figure-level function with similar flexibility) or `histplot` (an axes-level function for histograms).\n",
      "  warnings.warn(msg, FutureWarning)\n"
     ]
    },
    {
     "data": {
      "text/plain": [
       "<AxesSubplot:xlabel='ConvertedComp', ylabel='Density'>"
      ]
     },
     "execution_count": 18,
     "metadata": {},
     "output_type": "execute_result"
    },
    {
     "data": {
      "image/png": "[encoded data removed]",
      "text/plain": [
       "<Figure size 432x288 with 1 Axes>"
      ]
     },
     "metadata": {
      "needs_background": "light"
     },
     "output_type": "display_data"
    }
   ],
   "source": [
    "sns.distplot(df['ConvertedComp'])"
   ]
  },
  {
   "cell_type": "markdown",
   "id": "96278859",
   "metadata": {},
   "source": [
    "#### I will identify the outliers in the dataset"
   ]
  },
  {
   "cell_type": "markdown",
   "id": "22253109",
   "metadata": {},
   "source": [
    "I will do it fot the Age variable:"
   ]
  },
  {
   "cell_type": "code",
   "execution_count": 19,
   "id": "9b157cbd",
   "metadata": {},
   "outputs": [
    {
     "name": "stdout",
     "output_type": "stream",
     "text": [
      "The number summary are: \n",
      " min: 17.0 \n",
      " max: 71.0 \n",
      " median: 29.0 \n",
      " iq1: 25.0 \n",
      " iq3: 34.0\n"
     ]
    }
   ],
   "source": [
    "min_=df['Age'].min()\n",
    "max_=df['Age'].max()\n",
    "median=df['Age'].quantile(q=0.5)\n",
    "iq1=df['Age'].quantile(q=0.25)\n",
    "iq3=df['Age'].quantile(q=0.75)\n",
    "\n",
    "print(f\"The number summary are: \\n min: {min_} \\n max: {max_} \\n median: {median} \\n iq1: {iq1} \\n iq3: {iq3}\")"
   ]
  },
  {
   "cell_type": "code",
   "execution_count": 20,
   "id": "2056f217",
   "metadata": {},
   "outputs": [
    {
     "name": "stderr",
     "output_type": "stream",
     "text": [
      "C:\\Users\\Marco\\AppData\\Local\\Packages\\PythonSoftwareFoundation.Python.3.10_qbz5n2kfra8p0\\LocalCache\\local-packages\\Python310\\site-packages\\seaborn\\_decorators.py:36: FutureWarning: Pass the following variable as a keyword arg: x. From version 0.12, the only valid positional argument will be `data`, and passing other arguments without an explicit keyword will result in an error or misinterpretation.\n",
      "  warnings.warn(\n"
     ]
    },
    {
     "data": {
      "text/plain": [
       "<AxesSubplot:xlabel='Age'>"
      ]
     },
     "execution_count": 20,
     "metadata": {},
     "output_type": "execute_result"
    },
    {
     "data": {
      "image/png": "[encoded data removed]",
      "text/plain": [
       "<Figure size 432x288 with 1 Axes>"
      ]
     },
     "metadata": {
      "needs_background": "light"
     },
     "output_type": "display_data"
    }
   ],
   "source": [
    "sns.boxplot(df['Age'])"
   ]
  },
  {
   "cell_type": "markdown",
   "id": "abcac837",
   "metadata": {},
   "source": [
    "#### I will remove outliers from the dataset"
   ]
  },
  {
   "cell_type": "markdown",
   "id": "e767e980",
   "metadata": {},
   "source": [
    "I wil find out if outliers exist in the column ConvertedComp using a box plot"
   ]
  },
  {
   "cell_type": "code",
   "execution_count": 21,
   "id": "0924896f",
   "metadata": {},
   "outputs": [
    {
     "data": {
      "text/plain": [
       "(array([-250000.,       0.,  250000.,  500000.,  750000., 1000000.,\n",
       "        1250000., 1500000., 1750000., 2000000., 2250000.]),\n",
       " [Text(0, 0, ''),\n",
       "  Text(0, 0, ''),\n",
       "  Text(0, 0, ''),\n",
       "  Text(0, 0, ''),\n",
       "  Text(0, 0, ''),\n",
       "  Text(0, 0, ''),\n",
       "  Text(0, 0, ''),\n",
       "  Text(0, 0, ''),\n",
       "  Text(0, 0, ''),\n",
       "  Text(0, 0, ''),\n",
       "  Text(0, 0, '')])"
      ]
     },
     "execution_count": 21,
     "metadata": {},
     "output_type": "execute_result"
    },
    {
     "data": {
      "image/png": "[encoded data removed]",
      "text/plain": [
       "<Figure size 432x288 with 1 Axes>"
      ]
     },
     "metadata": {
      "needs_background": "light"
     },
     "output_type": "display_data"
    }
   ],
   "source": [
    "sns.boxplot(x=df['ConvertedComp'])\n",
    "plt.ticklabel_format(style='plain', axis='x')\n",
    "plt.xticks(rotation=45)"
   ]
  },
  {
   "cell_type": "markdown",
   "id": "9f44c571",
   "metadata": {},
   "source": [
    "To remove the outliers I need to calculate the interquartile range:"
   ]
  },
  {
   "cell_type": "code",
   "execution_count": 55,
   "id": "d5c9c92f",
   "metadata": {},
   "outputs": [
    {
     "name": "stdout",
     "output_type": "stream",
     "text": [
      "The number summary are: \n",
      " min: 0.0 \n",
      " max: 2000000.0 \n",
      " median: 62807.0 \n",
      " iq1: 30000.0 \n",
      " iq3: 110000.0       \n",
      " iqr: 80000.0 \n",
      " upper_whisker: 230000.0 \n",
      " lower_whisker: -90000.0\n"
     ]
    }
   ],
   "source": [
    "data_input=df['ConvertedComp']\n",
    "min_=data_input.min()\n",
    "max_=data_input.max()\n",
    "median=data_input.quantile(q=0.5)\n",
    "iq1=data_input.quantile(q=0.25)\n",
    "iq3=data_input.quantile(q=0.75)\n",
    "iqr=iq3-iq1\n",
    "upper_whisker = iq3+1.5*iqr\n",
    "lower_whisker = iq1-1.5*iqr\n",
    "\n",
    "print(f\"The number summary are: \\n min: {min_} \\n max: {max_} \\n median: {median} \\n iq1: {iq1} \\n iq3: {iq3} \\\n",
    "      \\n iqr: {iqr} \\n upper_whisker: {upper_whisker} \\n lower_whisker: {lower_whisker}\")\n"
   ]
  },
  {
   "cell_type": "markdown",
   "id": "f6941c3b",
   "metadata": {},
   "source": [
    "Identify how many outliers are there in the ConvertedComp column.\n"
   ]
  },
  {
   "cell_type": "code",
   "execution_count": 56,
   "id": "ccc413d7",
   "metadata": {},
   "outputs": [
    {
     "data": {
      "text/plain": [
       "6333"
      ]
     },
     "execution_count": 56,
     "metadata": {},
     "output_type": "execute_result"
    }
   ],
   "source": [
    "df[\"ConvertedComp\"].value_counts().sum() #tot value in the ConvertedComp column"
   ]
  },
  {
   "cell_type": "code",
   "execution_count": 63,
   "id": "f6ff4607",
   "metadata": {},
   "outputs": [
    {
     "data": {
      "text/plain": [
       "463"
      ]
     },
     "execution_count": 63,
     "metadata": {},
     "output_type": "execute_result"
    }
   ],
   "source": [
    "df_filtered_outside_upper = df[df[\"ConvertedComp\"]> upper_whisker] \n",
    "df_filtered_outside_lower = df[df[\"ConvertedComp\"] < lower_whisker]\n",
    "df_filtered_outside=pd.concat([df_filtered_outside_upper, df_filtered_outside_lower], axis=0)\n",
    "df_filtered_outside.value_counts().sum()"
   ]
  },
  {
   "cell_type": "markdown",
   "id": "21ac9de0",
   "metadata": {},
   "source": [
    "Create a new dataframe by removing the outliers from the ConvertedComp column.\n"
   ]
  },
  {
   "cell_type": "code",
   "execution_count": 65,
   "id": "57543427",
   "metadata": {},
   "outputs": [
    {
     "data": {
      "text/plain": [
       "5870"
      ]
     },
     "execution_count": 65,
     "metadata": {},
     "output_type": "execute_result"
    }
   ],
   "source": [
    "df_filtered_inside = df[(df[\"ConvertedComp\"]<= upper_whisker) & (df[\"ConvertedComp\"] >= lower_whisker)]\n",
    "df_filtered_inside.value_counts().sum()"
   ]
  },
  {
   "cell_type": "code",
   "execution_count": 66,
   "id": "f857c646",
   "metadata": {},
   "outputs": [
    {
     "data": {
      "text/plain": [
       "6333"
      ]
     },
     "execution_count": 66,
     "metadata": {},
     "output_type": "execute_result"
    }
   ],
   "source": [
    "5870+463"
   ]
  },
  {
   "cell_type": "code",
   "execution_count": 60,
   "id": "0de044eb",
   "metadata": {},
   "outputs": [
    {
     "data": {
      "text/plain": [
       "62807.0"
      ]
     },
     "execution_count": 60,
     "metadata": {},
     "output_type": "execute_result"
    }
   ],
   "source": [
    "# What is the median ConvertedComp before removing outliers?\n",
    "df['ConvertedComp'].median()"
   ]
  },
  {
   "cell_type": "code",
   "execution_count": 61,
   "id": "e4dd2b4a",
   "metadata": {},
   "outputs": [
    {
     "data": {
      "text/plain": [
       "57714.0"
      ]
     },
     "execution_count": 61,
     "metadata": {},
     "output_type": "execute_result"
    }
   ],
   "source": [
    "# What is the median ConvertedComp after removing outliers?\n",
    "df_filtered_inside['ConvertedComp'].median()"
   ]
  },
  {
   "cell_type": "code",
   "execution_count": 62,
   "id": "48604c61",
   "metadata": {},
   "outputs": [
    {
     "data": {
      "text/plain": [
       "65509.859006471386"
      ]
     },
     "execution_count": 62,
     "metadata": {},
     "output_type": "execute_result"
    }
   ],
   "source": [
    "# What is the mean ConvertedComp after removing outliers?\n",
    "df_filtered_inside['ConvertedComp'].mean()"
   ]
  },
  {
   "cell_type": "markdown",
   "id": "d70e2ba8",
   "metadata": {},
   "source": [
    "I will do it, namely find and remove the outliers, also for the age variable:"
   ]
  },
  {
   "cell_type": "code",
   "execution_count": 53,
   "id": "2fbb918e",
   "metadata": {},
   "outputs": [
    {
     "name": "stdout",
     "output_type": "stream",
     "text": [
      "The number summary are: \n",
      " min: 17.0 \n",
      " max: 71.0 \n",
      " median: 29.0 \n",
      " iq1: 25.0 \n",
      " iq3: 34.0       \n",
      " iqr: 9.0 \n",
      " upper_whisker: 47.5 \n",
      " lower_whisker: 11.5\n"
     ]
    }
   ],
   "source": [
    "# your code goes here\n",
    "data_input=df['Age']\n",
    "min_=data_input.min()\n",
    "max_=data_input.max()\n",
    "median=data_input.quantile(q=0.5)\n",
    "iq1=data_input.quantile(q=0.25)\n",
    "iq3=data_input.quantile(q=0.75)\n",
    "iqr=iq3-iq1\n",
    "upper_whisker = iq3+1.5*iqr\n",
    "lower_whisker = iq1-1.5*iqr\n",
    "\n",
    "print(f\"The number summary are: \\n min: {min_} \\n max: {max_} \\n median: {median} \\n iq1: {iq1} \\n iq3: {iq3} \\\n",
    "      \\n iqr: {iqr} \\n upper_whisker: {upper_whisker} \\n lower_whisker: {lower_whisker}\")\n"
   ]
  },
  {
   "cell_type": "code",
   "execution_count": 54,
   "id": "b5e5f84d",
   "metadata": {},
   "outputs": [
    {
     "data": {
      "text/plain": [
       "0"
      ]
     },
     "execution_count": 54,
     "metadata": {},
     "output_type": "execute_result"
    }
   ],
   "source": [
    "# Based on the boxplot of ‘Age’ how many outliers do you see below Q1\n",
    "df_filtered_outside_lower = df[df[\"Age\"] < lower_whisker]\n",
    "df_filtered_outside_lower.value_counts().sum()"
   ]
  },
  {
   "cell_type": "markdown",
   "id": "fb964024",
   "metadata": {},
   "source": [
    "### Finding correlation\n"
   ]
  },
  {
   "cell_type": "markdown",
   "id": "ba0e01b8",
   "metadata": {},
   "source": [
    "Find the correlation between Age and all other numerical columns.\n"
   ]
  },
  {
   "cell_type": "code",
   "execution_count": 52,
   "id": "4a5910d5",
   "metadata": {},
   "outputs": [
    {
     "data": {
      "text/plain": [
       "Unnamed: 0                     -0.011681\n",
       "Respondent                     -0.011891\n",
       "CompTotal                      -0.000653\n",
       "ConvertedComp                   0.094402\n",
       "WorkWeekHrs                     0.022060\n",
       "CodeRevHrs                     -0.023014\n",
       "Age                             1.000000\n",
       "multiplier                     -0.098245\n",
       "NormalizedAnnualCompensation   -0.003910\n",
       "Name: Age, dtype: float64"
      ]
     },
     "execution_count": 52,
     "metadata": {},
     "output_type": "execute_result"
    }
   ],
   "source": [
    "df.corr()['Age']"
   ]
  },
  {
   "cell_type": "code",
   "execution_count": null,
   "id": "166a2706",
   "metadata": {},
   "outputs": [],
   "source": []
  }
 ],
 "metadata": {
  "kernelspec": {
   "display_name": "Python 3 (ipykernel)",
   "language": "python",
   "name": "python3"
  },
  "language_info": {
   "codemirror_mode": {
    "name": "ipython",
    "version": 3
   },
   "file_extension": ".py",
   "mimetype": "text/x-python",
   "name": "python",
   "nbconvert_exporter": "python",
   "pygments_lexer": "ipython3",
   "version": "3.10.9"
  }
 },
 "nbformat": 4,
 "nbformat_minor": 5
}
